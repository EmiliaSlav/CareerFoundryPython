{
 "cells": [
  {
   "cell_type": "code",
   "execution_count": 2,
   "metadata": {},
   "outputs": [],
   "source": [
    "import pandas as pd\n",
    "import numpy as np\n",
    "import os\n",
    "import matplotlib.pyplot as plt\n",
    "import seaborn as sns\n",
    "import scipy"
   ]
  },
  {
   "cell_type": "code",
   "execution_count": 3,
   "metadata": {},
   "outputs": [],
   "source": [
    "ords_prods_merge = pd.read_pickle(r'C:\\Users\\slave\\OneDrive\\Documents\\Instacart Basket Analysis\\02 Data\\Prepared Data\\ords_prods_merge_after_grouping.pkl')"
   ]
  },
  {
   "cell_type": "code",
   "execution_count": 4,
   "metadata": {},
   "outputs": [],
   "source": [
    "customer_merged = pd.read_pickle(r'C:\\Users\\slave\\OneDrive\\Documents\\Instacart Basket Analysis\\02 Data\\Prepared Data\\customer_merged.pkl')"
   ]
  },
  {
   "cell_type": "code",
   "execution_count": 5,
   "metadata": {},
   "outputs": [
    {
     "data": {
      "text/plain": [
       "<AxesSubplot:>"
      ]
     },
     "execution_count": 5,
     "metadata": {},
     "output_type": "execute_result"
    },
    {
     "data": {
      "image/png": "[encoded data removed]",
      "text/plain": [
       "<Figure size 432x288 with 1 Axes>"
      ]
     },
     "metadata": {
      "needs_background": "light"
     },
     "output_type": "display_data"
    }
   ],
   "source": [
    "ords_prods_merge['orders_day_of_the_week'].value_counts().plot.bar()"
   ]
  },
  {
   "cell_type": "code",
   "execution_count": 6,
   "metadata": {},
   "outputs": [
    {
     "data": {
      "text/plain": [
       "<AxesSubplot:>"
      ]
     },
     "execution_count": 6,
     "metadata": {},
     "output_type": "execute_result"
    },
    {
     "data": {
      "image/png": "[encoded data removed]",
      "text/plain": [
       "<Figure size 432x288 with 1 Axes>"
      ]
     },
     "metadata": {
      "needs_background": "light"
     },
     "output_type": "display_data"
    }
   ],
   "source": [
    "ords_prods_merge['orders_day_of_the_week'].value_counts().sort_index().plot.bar()"
   ]
  },
  {
   "cell_type": "code",
   "execution_count": 7,
   "metadata": {},
   "outputs": [
    {
     "data": {
      "text/plain": [
       "<AxesSubplot:>"
      ]
     },
     "execution_count": 7,
     "metadata": {},
     "output_type": "execute_result"
    },
    {
     "data": {
      "image/png": "[encoded data removed]",
      "text/plain": [
       "<Figure size 432x288 with 1 Axes>"
      ]
     },
     "metadata": {
      "needs_background": "light"
     },
     "output_type": "display_data"
    }
   ],
   "source": [
    "ords_prods_merge['orders_day_of_the_week'].value_counts().plot.bar(color = ['purple','red','pink','orange','yellow','green','blue'])"
   ]
  },
  {
   "cell_type": "code",
   "execution_count": 8,
   "metadata": {},
   "outputs": [
    {
     "data": {
      "image/png": "[encoded data removed]",
      "text/plain": [
       "<Figure size 432x288 with 1 Axes>"
      ]
     },
     "metadata": {
      "needs_background": "light"
     },
     "output_type": "display_data"
    }
   ],
   "source": [
    "bar = ords_prods_merge['orders_day_of_the_week'].value_counts().plot.bar(color =['purple', 'red', 'pink', 'orange', 'yellow', 'green', 'blue'])"
   ]
  },
  {
   "cell_type": "code",
   "execution_count": 9,
   "metadata": {},
   "outputs": [],
   "source": [
    "bar.figure.savefig(r'C:\\Users\\kenta\\Instacart Basket Analysis\\04 Analysis\\Visualizations\\bar_orders_dow.png')"
   ]
  },
  {
   "cell_type": "code",
   "execution_count": 10,
   "metadata": {},
   "outputs": [
    {
     "data": {
      "text/plain": [
       "<AxesSubplot:ylabel='Frequency'>"
      ]
     },
     "execution_count": 10,
     "metadata": {},
     "output_type": "execute_result"
    },
    {
     "data": {
      "image/png": "[encoded data removed]",
      "text/plain": [
       "<Figure size 432x288 with 1 Axes>"
      ]
     },
     "metadata": {
      "needs_background": "light"
     },
     "output_type": "display_data"
    }
   ],
   "source": [
    "ords_prods_merge['prices'].plot.hist(bins = 25)"
   ]
  },
  {
   "cell_type": "code",
   "execution_count": 11,
   "metadata": {},
   "outputs": [],
   "source": [
    "pd.options.display.float_format = '{:.2f}'.format"
   ]
  },
  {
   "cell_type": "code",
   "execution_count": 12,
   "metadata": {},
   "outputs": [
    {
     "data": {
      "text/html": [
       "<div>\n",
       "<style scoped>\n",
       "    .dataframe tbody tr th:only-of-type {\n",
       "        vertical-align: middle;\n",
       "    }\n",
       "\n",
       "    .dataframe tbody tr th {\n",
       "        vertical-align: top;\n",
       "    }\n",
       "\n",
       "    .dataframe thead th {\n",
       "        text-align: right;\n",
       "    }\n",
       "</style>\n",
       "<table border=\"1\" class=\"dataframe\">\n",
       "  <thead>\n",
       "    <tr style=\"text-align: right;\">\n",
       "      <th></th>\n",
       "      <th>order_id</th>\n",
       "      <th>user_id</th>\n",
       "      <th>order_number</th>\n",
       "      <th>orders_day_of_the_week</th>\n",
       "      <th>order_hour_of_day</th>\n",
       "      <th>days_since_prior_order</th>\n",
       "      <th>product_id</th>\n",
       "      <th>add_to_cart_order</th>\n",
       "      <th>reordered</th>\n",
       "      <th>aisle_id</th>\n",
       "      <th>department_id</th>\n",
       "      <th>prices</th>\n",
       "      <th>max_order</th>\n",
       "      <th>Average_spending</th>\n",
       "      <th>Median_days_since_prior_order</th>\n",
       "    </tr>\n",
       "  </thead>\n",
       "  <tbody>\n",
       "    <tr>\n",
       "      <th>count</th>\n",
       "      <td>32641268.00</td>\n",
       "      <td>32641268.00</td>\n",
       "      <td>32641268.00</td>\n",
       "      <td>32641268.00</td>\n",
       "      <td>32641268.00</td>\n",
       "      <td>32641268.00</td>\n",
       "      <td>32435059.00</td>\n",
       "      <td>32435059.00</td>\n",
       "      <td>32435059.00</td>\n",
       "      <td>32404859.00</td>\n",
       "      <td>32404859.00</td>\n",
       "      <td>32404859.00</td>\n",
       "      <td>32641268.00</td>\n",
       "      <td>32641268.00</td>\n",
       "      <td>32641268.00</td>\n",
       "    </tr>\n",
       "    <tr>\n",
       "      <th>mean</th>\n",
       "      <td>1710718.20</td>\n",
       "      <td>102938.26</td>\n",
       "      <td>17.14</td>\n",
       "      <td>2.74</td>\n",
       "      <td>13.43</td>\n",
       "      <td>11.14</td>\n",
       "      <td>25576.35</td>\n",
       "      <td>8.35</td>\n",
       "      <td>0.59</td>\n",
       "      <td>71.20</td>\n",
       "      <td>9.92</td>\n",
       "      <td>11.98</td>\n",
       "      <td>33.94</td>\n",
       "      <td>11.98</td>\n",
       "      <td>10.07</td>\n",
       "    </tr>\n",
       "    <tr>\n",
       "      <th>std</th>\n",
       "      <td>987308.36</td>\n",
       "      <td>59466.89</td>\n",
       "      <td>17.53</td>\n",
       "      <td>2.09</td>\n",
       "      <td>4.25</td>\n",
       "      <td>8.52</td>\n",
       "      <td>14096.57</td>\n",
       "      <td>7.13</td>\n",
       "      <td>0.49</td>\n",
       "      <td>38.21</td>\n",
       "      <td>6.28</td>\n",
       "      <td>495.66</td>\n",
       "      <td>25.15</td>\n",
       "      <td>83.57</td>\n",
       "      <td>6.35</td>\n",
       "    </tr>\n",
       "    <tr>\n",
       "      <th>min</th>\n",
       "      <td>1.00</td>\n",
       "      <td>1.00</td>\n",
       "      <td>1.00</td>\n",
       "      <td>0.00</td>\n",
       "      <td>0.00</td>\n",
       "      <td>0.00</td>\n",
       "      <td>1.00</td>\n",
       "      <td>1.00</td>\n",
       "      <td>0.00</td>\n",
       "      <td>1.00</td>\n",
       "      <td>1.00</td>\n",
       "      <td>1.00</td>\n",
       "      <td>4.00</td>\n",
       "      <td>1.00</td>\n",
       "      <td>0.00</td>\n",
       "    </tr>\n",
       "    <tr>\n",
       "      <th>25%</th>\n",
       "      <td>855884.75</td>\n",
       "      <td>51422.00</td>\n",
       "      <td>5.00</td>\n",
       "      <td>1.00</td>\n",
       "      <td>10.00</td>\n",
       "      <td>5.00</td>\n",
       "      <td>13532.00</td>\n",
       "      <td>3.00</td>\n",
       "      <td>0.00</td>\n",
       "      <td>31.00</td>\n",
       "      <td>4.00</td>\n",
       "      <td>4.20</td>\n",
       "      <td>14.00</td>\n",
       "      <td>7.39</td>\n",
       "      <td>6.00</td>\n",
       "    </tr>\n",
       "    <tr>\n",
       "      <th>50%</th>\n",
       "      <td>1710984.00</td>\n",
       "      <td>102616.00</td>\n",
       "      <td>11.00</td>\n",
       "      <td>3.00</td>\n",
       "      <td>13.00</td>\n",
       "      <td>8.00</td>\n",
       "      <td>25256.00</td>\n",
       "      <td>6.00</td>\n",
       "      <td>1.00</td>\n",
       "      <td>83.00</td>\n",
       "      <td>9.00</td>\n",
       "      <td>7.40</td>\n",
       "      <td>27.00</td>\n",
       "      <td>7.82</td>\n",
       "      <td>8.00</td>\n",
       "    </tr>\n",
       "    <tr>\n",
       "      <th>75%</th>\n",
       "      <td>2565489.00</td>\n",
       "      <td>154394.00</td>\n",
       "      <td>24.00</td>\n",
       "      <td>5.00</td>\n",
       "      <td>16.00</td>\n",
       "      <td>14.00</td>\n",
       "      <td>37935.00</td>\n",
       "      <td>11.00</td>\n",
       "      <td>1.00</td>\n",
       "      <td>107.00</td>\n",
       "      <td>16.00</td>\n",
       "      <td>11.30</td>\n",
       "      <td>48.00</td>\n",
       "      <td>8.25</td>\n",
       "      <td>12.00</td>\n",
       "    </tr>\n",
       "    <tr>\n",
       "      <th>max</th>\n",
       "      <td>3421083.00</td>\n",
       "      <td>206209.00</td>\n",
       "      <td>100.00</td>\n",
       "      <td>6.00</td>\n",
       "      <td>23.00</td>\n",
       "      <td>30.00</td>\n",
       "      <td>49688.00</td>\n",
       "      <td>145.00</td>\n",
       "      <td>1.00</td>\n",
       "      <td>134.00</td>\n",
       "      <td>21.00</td>\n",
       "      <td>99999.00</td>\n",
       "      <td>100.00</td>\n",
       "      <td>25005.42</td>\n",
       "      <td>30.00</td>\n",
       "    </tr>\n",
       "  </tbody>\n",
       "</table>\n",
       "</div>"
      ],
      "text/plain": [
       "         order_id     user_id  order_number  orders_day_of_the_week  \\\n",
       "count 32641268.00 32641268.00   32641268.00             32641268.00   \n",
       "mean   1710718.20   102938.26         17.14                    2.74   \n",
       "std     987308.36    59466.89         17.53                    2.09   \n",
       "min          1.00        1.00          1.00                    0.00   \n",
       "25%     855884.75    51422.00          5.00                    1.00   \n",
       "50%    1710984.00   102616.00         11.00                    3.00   \n",
       "75%    2565489.00   154394.00         24.00                    5.00   \n",
       "max    3421083.00   206209.00        100.00                    6.00   \n",
       "\n",
       "       order_hour_of_day  days_since_prior_order  product_id  \\\n",
       "count        32641268.00             32641268.00 32435059.00   \n",
       "mean               13.43                   11.14    25576.35   \n",
       "std                 4.25                    8.52    14096.57   \n",
       "min                 0.00                    0.00        1.00   \n",
       "25%                10.00                    5.00    13532.00   \n",
       "50%                13.00                    8.00    25256.00   \n",
       "75%                16.00                   14.00    37935.00   \n",
       "max                23.00                   30.00    49688.00   \n",
       "\n",
       "       add_to_cart_order   reordered    aisle_id  department_id      prices  \\\n",
       "count        32435059.00 32435059.00 32404859.00    32404859.00 32404859.00   \n",
       "mean                8.35        0.59       71.20           9.92       11.98   \n",
       "std                 7.13        0.49       38.21           6.28      495.66   \n",
       "min                 1.00        0.00        1.00           1.00        1.00   \n",
       "25%                 3.00        0.00       31.00           4.00        4.20   \n",
       "50%                 6.00        1.00       83.00           9.00        7.40   \n",
       "75%                11.00        1.00      107.00          16.00       11.30   \n",
       "max               145.00        1.00      134.00          21.00    99999.00   \n",
       "\n",
       "        max_order  Average_spending  Median_days_since_prior_order  \n",
       "count 32641268.00       32641268.00                    32641268.00  \n",
       "mean        33.94             11.98                          10.07  \n",
       "std         25.15             83.57                           6.35  \n",
       "min          4.00              1.00                           0.00  \n",
       "25%         14.00              7.39                           6.00  \n",
       "50%         27.00              7.82                           8.00  \n",
       "75%         48.00              8.25                          12.00  \n",
       "max        100.00          25005.42                          30.00  "
      ]
     },
     "execution_count": 12,
     "metadata": {},
     "output_type": "execute_result"
    }
   ],
   "source": [
    "ords_prods_merge.describe()"
   ]
  },
  {
   "cell_type": "code",
   "execution_count": 13,
   "metadata": {},
   "outputs": [
    {
     "data": {
      "text/plain": [
       "<AxesSubplot:xlabel='prices', ylabel='prices'>"
      ]
     },
     "execution_count": 13,
     "metadata": {},
     "output_type": "execute_result"
    },
    {
     "data": {
      "image/png": "[encoded data removed]",
      "text/plain": [
       "<Figure size 432x288 with 1 Axes>"
      ]
     },
     "metadata": {
      "needs_background": "light"
     },
     "output_type": "display_data"
    }
   ],
   "source": [
    "sns.scatterplot(x = 'prices', y = 'prices',data = ords_prods_merge)"
   ]
  },
  {
   "cell_type": "code",
   "execution_count": 14,
   "metadata": {},
   "outputs": [],
   "source": [
    "ords_prods_merge.drop(columns = ['_merge'],inplace = True)"
   ]
  },
  {
   "cell_type": "code",
   "execution_count": 15,
   "metadata": {},
   "outputs": [
    {
     "data": {
      "text/html": [
       "<div>\n",
       "<style scoped>\n",
       "    .dataframe tbody tr th:only-of-type {\n",
       "        vertical-align: middle;\n",
       "    }\n",
       "\n",
       "    .dataframe tbody tr th {\n",
       "        vertical-align: top;\n",
       "    }\n",
       "\n",
       "    .dataframe thead th {\n",
       "        text-align: right;\n",
       "    }\n",
       "</style>\n",
       "<table border=\"1\" class=\"dataframe\">\n",
       "  <thead>\n",
       "    <tr style=\"text-align: right;\">\n",
       "      <th></th>\n",
       "      <th>order_id</th>\n",
       "      <th>user_id</th>\n",
       "      <th>eval_set</th>\n",
       "      <th>order_number</th>\n",
       "      <th>orders_day_of_the_week</th>\n",
       "      <th>order_hour_of_day</th>\n",
       "      <th>days_since_prior_order</th>\n",
       "      <th>product_id</th>\n",
       "      <th>add_to_cart_order</th>\n",
       "      <th>reordered</th>\n",
       "      <th>...</th>\n",
       "      <th>prices</th>\n",
       "      <th>busiest_day</th>\n",
       "      <th>busiest_days</th>\n",
       "      <th>busy_time</th>\n",
       "      <th>max_order</th>\n",
       "      <th>loyalty_flag</th>\n",
       "      <th>Average_spending</th>\n",
       "      <th>spending_flag</th>\n",
       "      <th>Median_days_since_prior_order</th>\n",
       "      <th>frequency_flag</th>\n",
       "    </tr>\n",
       "  </thead>\n",
       "  <tbody>\n",
       "    <tr>\n",
       "      <th>1592</th>\n",
       "      <td>912404</td>\n",
       "      <td>17</td>\n",
       "      <td>prior</td>\n",
       "      <td>12</td>\n",
       "      <td>2</td>\n",
       "      <td>14</td>\n",
       "      <td>5.00</td>\n",
       "      <td>21553.00</td>\n",
       "      <td>5.00</td>\n",
       "      <td>0.00</td>\n",
       "      <td>...</td>\n",
       "      <td>14900.00</td>\n",
       "      <td>Regularly busy</td>\n",
       "      <td>Regularly busy</td>\n",
       "      <td>Most orders</td>\n",
       "      <td>41</td>\n",
       "      <td>Loyal customer</td>\n",
       "      <td>108.65</td>\n",
       "      <td>High spender</td>\n",
       "      <td>5.00</td>\n",
       "      <td>Frequent customer</td>\n",
       "    </tr>\n",
       "    <tr>\n",
       "      <th>1654</th>\n",
       "      <td>603376</td>\n",
       "      <td>17</td>\n",
       "      <td>prior</td>\n",
       "      <td>22</td>\n",
       "      <td>6</td>\n",
       "      <td>16</td>\n",
       "      <td>4.00</td>\n",
       "      <td>21553.00</td>\n",
       "      <td>3.00</td>\n",
       "      <td>1.00</td>\n",
       "      <td>...</td>\n",
       "      <td>14900.00</td>\n",
       "      <td>Regularly busy</td>\n",
       "      <td>Regularly busy</td>\n",
       "      <td>Most orders</td>\n",
       "      <td>41</td>\n",
       "      <td>Loyal customer</td>\n",
       "      <td>108.65</td>\n",
       "      <td>High spender</td>\n",
       "      <td>5.00</td>\n",
       "      <td>Frequent customer</td>\n",
       "    </tr>\n",
       "    <tr>\n",
       "      <th>16668</th>\n",
       "      <td>3264360</td>\n",
       "      <td>135</td>\n",
       "      <td>prior</td>\n",
       "      <td>2</td>\n",
       "      <td>2</td>\n",
       "      <td>21</td>\n",
       "      <td>13.00</td>\n",
       "      <td>21553.00</td>\n",
       "      <td>6.00</td>\n",
       "      <td>0.00</td>\n",
       "      <td>...</td>\n",
       "      <td>14900.00</td>\n",
       "      <td>Regularly busy</td>\n",
       "      <td>Regularly busy</td>\n",
       "      <td>Average orders</td>\n",
       "      <td>5</td>\n",
       "      <td>New customer</td>\n",
       "      <td>1154.79</td>\n",
       "      <td>High spender</td>\n",
       "      <td>12.00</td>\n",
       "      <td>Regular customer</td>\n",
       "    </tr>\n",
       "    <tr>\n",
       "      <th>16674</th>\n",
       "      <td>892534</td>\n",
       "      <td>135</td>\n",
       "      <td>prior</td>\n",
       "      <td>3</td>\n",
       "      <td>0</td>\n",
       "      <td>8</td>\n",
       "      <td>12.00</td>\n",
       "      <td>21553.00</td>\n",
       "      <td>3.00</td>\n",
       "      <td>1.00</td>\n",
       "      <td>...</td>\n",
       "      <td>14900.00</td>\n",
       "      <td>Busiest day</td>\n",
       "      <td>Busiest days</td>\n",
       "      <td>Average orders</td>\n",
       "      <td>5</td>\n",
       "      <td>New customer</td>\n",
       "      <td>1154.79</td>\n",
       "      <td>High spender</td>\n",
       "      <td>12.00</td>\n",
       "      <td>Regular customer</td>\n",
       "    </tr>\n",
       "    <tr>\n",
       "      <th>54053</th>\n",
       "      <td>229704</td>\n",
       "      <td>342</td>\n",
       "      <td>prior</td>\n",
       "      <td>8</td>\n",
       "      <td>1</td>\n",
       "      <td>19</td>\n",
       "      <td>30.00</td>\n",
       "      <td>21553.00</td>\n",
       "      <td>9.00</td>\n",
       "      <td>0.00</td>\n",
       "      <td>...</td>\n",
       "      <td>14900.00</td>\n",
       "      <td>Regularly busy</td>\n",
       "      <td>Busiest days</td>\n",
       "      <td>Average orders</td>\n",
       "      <td>17</td>\n",
       "      <td>Regular customer</td>\n",
       "      <td>114.43</td>\n",
       "      <td>High spender</td>\n",
       "      <td>20.00</td>\n",
       "      <td>Regular customer</td>\n",
       "    </tr>\n",
       "    <tr>\n",
       "      <th>...</th>\n",
       "      <td>...</td>\n",
       "      <td>...</td>\n",
       "      <td>...</td>\n",
       "      <td>...</td>\n",
       "      <td>...</td>\n",
       "      <td>...</td>\n",
       "      <td>...</td>\n",
       "      <td>...</td>\n",
       "      <td>...</td>\n",
       "      <td>...</td>\n",
       "      <td>...</td>\n",
       "      <td>...</td>\n",
       "      <td>...</td>\n",
       "      <td>...</td>\n",
       "      <td>...</td>\n",
       "      <td>...</td>\n",
       "      <td>...</td>\n",
       "      <td>...</td>\n",
       "      <td>...</td>\n",
       "      <td>...</td>\n",
       "      <td>...</td>\n",
       "    </tr>\n",
       "    <tr>\n",
       "      <th>32556283</th>\n",
       "      <td>3172853</td>\n",
       "      <td>205650</td>\n",
       "      <td>prior</td>\n",
       "      <td>18</td>\n",
       "      <td>1</td>\n",
       "      <td>9</td>\n",
       "      <td>7.00</td>\n",
       "      <td>21553.00</td>\n",
       "      <td>17.00</td>\n",
       "      <td>1.00</td>\n",
       "      <td>...</td>\n",
       "      <td>14900.00</td>\n",
       "      <td>Regularly busy</td>\n",
       "      <td>Busiest days</td>\n",
       "      <td>Most orders</td>\n",
       "      <td>26</td>\n",
       "      <td>Regular customer</td>\n",
       "      <td>351.14</td>\n",
       "      <td>High spender</td>\n",
       "      <td>6.00</td>\n",
       "      <td>Frequent customer</td>\n",
       "    </tr>\n",
       "    <tr>\n",
       "      <th>32583684</th>\n",
       "      <td>2504315</td>\n",
       "      <td>205818</td>\n",
       "      <td>prior</td>\n",
       "      <td>3</td>\n",
       "      <td>5</td>\n",
       "      <td>15</td>\n",
       "      <td>3.00</td>\n",
       "      <td>21553.00</td>\n",
       "      <td>13.00</td>\n",
       "      <td>0.00</td>\n",
       "      <td>...</td>\n",
       "      <td>14900.00</td>\n",
       "      <td>Regularly busy</td>\n",
       "      <td>Regularly busy</td>\n",
       "      <td>Most orders</td>\n",
       "      <td>26</td>\n",
       "      <td>Regular customer</td>\n",
       "      <td>170.07</td>\n",
       "      <td>High spender</td>\n",
       "      <td>11.11</td>\n",
       "      <td>Regular customer</td>\n",
       "    </tr>\n",
       "    <tr>\n",
       "      <th>32583694</th>\n",
       "      <td>1108388</td>\n",
       "      <td>205818</td>\n",
       "      <td>prior</td>\n",
       "      <td>5</td>\n",
       "      <td>4</td>\n",
       "      <td>5</td>\n",
       "      <td>1.00</td>\n",
       "      <td>21553.00</td>\n",
       "      <td>5.00</td>\n",
       "      <td>1.00</td>\n",
       "      <td>...</td>\n",
       "      <td>14900.00</td>\n",
       "      <td>Least busy</td>\n",
       "      <td>Slowest days</td>\n",
       "      <td>NaN</td>\n",
       "      <td>26</td>\n",
       "      <td>Regular customer</td>\n",
       "      <td>170.07</td>\n",
       "      <td>High spender</td>\n",
       "      <td>11.11</td>\n",
       "      <td>Regular customer</td>\n",
       "    </tr>\n",
       "    <tr>\n",
       "      <th>32616755</th>\n",
       "      <td>1916142</td>\n",
       "      <td>206049</td>\n",
       "      <td>prior</td>\n",
       "      <td>1</td>\n",
       "      <td>2</td>\n",
       "      <td>17</td>\n",
       "      <td>11.11</td>\n",
       "      <td>21553.00</td>\n",
       "      <td>2.00</td>\n",
       "      <td>0.00</td>\n",
       "      <td>...</td>\n",
       "      <td>14900.00</td>\n",
       "      <td>Regularly busy</td>\n",
       "      <td>Regularly busy</td>\n",
       "      <td>Average orders</td>\n",
       "      <td>6</td>\n",
       "      <td>New customer</td>\n",
       "      <td>938.03</td>\n",
       "      <td>High spender</td>\n",
       "      <td>11.11</td>\n",
       "      <td>Regular customer</td>\n",
       "    </tr>\n",
       "    <tr>\n",
       "      <th>32616779</th>\n",
       "      <td>379732</td>\n",
       "      <td>206049</td>\n",
       "      <td>prior</td>\n",
       "      <td>4</td>\n",
       "      <td>1</td>\n",
       "      <td>14</td>\n",
       "      <td>5.00</td>\n",
       "      <td>21553.00</td>\n",
       "      <td>4.00</td>\n",
       "      <td>1.00</td>\n",
       "      <td>...</td>\n",
       "      <td>14900.00</td>\n",
       "      <td>Regularly busy</td>\n",
       "      <td>Busiest days</td>\n",
       "      <td>Most orders</td>\n",
       "      <td>6</td>\n",
       "      <td>New customer</td>\n",
       "      <td>938.03</td>\n",
       "      <td>High spender</td>\n",
       "      <td>11.11</td>\n",
       "      <td>Regular customer</td>\n",
       "    </tr>\n",
       "  </tbody>\n",
       "</table>\n",
       "<p>5127 rows × 23 columns</p>\n",
       "</div>"
      ],
      "text/plain": [
       "          order_id  user_id eval_set  order_number  orders_day_of_the_week  \\\n",
       "1592        912404       17    prior            12                       2   \n",
       "1654        603376       17    prior            22                       6   \n",
       "16668      3264360      135    prior             2                       2   \n",
       "16674       892534      135    prior             3                       0   \n",
       "54053       229704      342    prior             8                       1   \n",
       "...            ...      ...      ...           ...                     ...   \n",
       "32556283   3172853   205650    prior            18                       1   \n",
       "32583684   2504315   205818    prior             3                       5   \n",
       "32583694   1108388   205818    prior             5                       4   \n",
       "32616755   1916142   206049    prior             1                       2   \n",
       "32616779    379732   206049    prior             4                       1   \n",
       "\n",
       "          order_hour_of_day  days_since_prior_order  product_id  \\\n",
       "1592                     14                    5.00    21553.00   \n",
       "1654                     16                    4.00    21553.00   \n",
       "16668                    21                   13.00    21553.00   \n",
       "16674                     8                   12.00    21553.00   \n",
       "54053                    19                   30.00    21553.00   \n",
       "...                     ...                     ...         ...   \n",
       "32556283                  9                    7.00    21553.00   \n",
       "32583684                 15                    3.00    21553.00   \n",
       "32583694                  5                    1.00    21553.00   \n",
       "32616755                 17                   11.11    21553.00   \n",
       "32616779                 14                    5.00    21553.00   \n",
       "\n",
       "          add_to_cart_order  reordered  ...   prices     busiest_day  \\\n",
       "1592                   5.00       0.00  ... 14900.00  Regularly busy   \n",
       "1654                   3.00       1.00  ... 14900.00  Regularly busy   \n",
       "16668                  6.00       0.00  ... 14900.00  Regularly busy   \n",
       "16674                  3.00       1.00  ... 14900.00     Busiest day   \n",
       "54053                  9.00       0.00  ... 14900.00  Regularly busy   \n",
       "...                     ...        ...  ...      ...             ...   \n",
       "32556283              17.00       1.00  ... 14900.00  Regularly busy   \n",
       "32583684              13.00       0.00  ... 14900.00  Regularly busy   \n",
       "32583694               5.00       1.00  ... 14900.00      Least busy   \n",
       "32616755               2.00       0.00  ... 14900.00  Regularly busy   \n",
       "32616779               4.00       1.00  ... 14900.00  Regularly busy   \n",
       "\n",
       "            busiest_days       busy_time max_order      loyalty_flag  \\\n",
       "1592      Regularly busy     Most orders        41    Loyal customer   \n",
       "1654      Regularly busy     Most orders        41    Loyal customer   \n",
       "16668     Regularly busy  Average orders         5      New customer   \n",
       "16674       Busiest days  Average orders         5      New customer   \n",
       "54053       Busiest days  Average orders        17  Regular customer   \n",
       "...                  ...             ...       ...               ...   \n",
       "32556283    Busiest days     Most orders        26  Regular customer   \n",
       "32583684  Regularly busy     Most orders        26  Regular customer   \n",
       "32583694    Slowest days             NaN        26  Regular customer   \n",
       "32616755  Regularly busy  Average orders         6      New customer   \n",
       "32616779    Busiest days     Most orders         6      New customer   \n",
       "\n",
       "         Average_spending  spending_flag Median_days_since_prior_order  \\\n",
       "1592               108.65   High spender                          5.00   \n",
       "1654               108.65   High spender                          5.00   \n",
       "16668             1154.79   High spender                         12.00   \n",
       "16674             1154.79   High spender                         12.00   \n",
       "54053              114.43   High spender                         20.00   \n",
       "...                   ...            ...                           ...   \n",
       "32556283           351.14   High spender                          6.00   \n",
       "32583684           170.07   High spender                         11.11   \n",
       "32583694           170.07   High spender                         11.11   \n",
       "32616755           938.03   High spender                         11.11   \n",
       "32616779           938.03   High spender                         11.11   \n",
       "\n",
       "             frequency_flag  \n",
       "1592      Frequent customer  \n",
       "1654      Frequent customer  \n",
       "16668      Regular customer  \n",
       "16674      Regular customer  \n",
       "54053      Regular customer  \n",
       "...                     ...  \n",
       "32556283  Frequent customer  \n",
       "32583684   Regular customer  \n",
       "32583694   Regular customer  \n",
       "32616755   Regular customer  \n",
       "32616779   Regular customer  \n",
       "\n",
       "[5127 rows x 23 columns]"
      ]
     },
     "execution_count": 15,
     "metadata": {},
     "output_type": "execute_result"
    }
   ],
   "source": [
    "ords_prods_merge.loc[ords_prods_merge['prices'] > 100]"
   ]
  },
  {
   "cell_type": "code",
   "execution_count": 16,
   "metadata": {},
   "outputs": [
    {
     "data": {
      "text/html": [
       "<div>\n",
       "<style scoped>\n",
       "    .dataframe tbody tr th:only-of-type {\n",
       "        vertical-align: middle;\n",
       "    }\n",
       "\n",
       "    .dataframe tbody tr th {\n",
       "        vertical-align: top;\n",
       "    }\n",
       "\n",
       "    .dataframe thead th {\n",
       "        text-align: right;\n",
       "    }\n",
       "</style>\n",
       "<table border=\"1\" class=\"dataframe\">\n",
       "  <thead>\n",
       "    <tr style=\"text-align: right;\">\n",
       "      <th></th>\n",
       "      <th>order_id</th>\n",
       "      <th>user_id</th>\n",
       "      <th>eval_set</th>\n",
       "      <th>order_number</th>\n",
       "      <th>orders_day_of_the_week</th>\n",
       "      <th>order_hour_of_day</th>\n",
       "      <th>days_since_prior_order</th>\n",
       "      <th>product_id</th>\n",
       "      <th>add_to_cart_order</th>\n",
       "      <th>reordered</th>\n",
       "      <th>...</th>\n",
       "      <th>prices</th>\n",
       "      <th>busiest_day</th>\n",
       "      <th>busiest_days</th>\n",
       "      <th>busy_time</th>\n",
       "      <th>max_order</th>\n",
       "      <th>loyalty_flag</th>\n",
       "      <th>Average_spending</th>\n",
       "      <th>spending_flag</th>\n",
       "      <th>Median_days_since_prior_order</th>\n",
       "      <th>frequency_flag</th>\n",
       "    </tr>\n",
       "  </thead>\n",
       "  <tbody>\n",
       "    <tr>\n",
       "      <th>129909</th>\n",
       "      <td>183964</td>\n",
       "      <td>873</td>\n",
       "      <td>prior</td>\n",
       "      <td>3</td>\n",
       "      <td>0</td>\n",
       "      <td>10</td>\n",
       "      <td>7.00</td>\n",
       "      <td>33664.00</td>\n",
       "      <td>11.00</td>\n",
       "      <td>0.00</td>\n",
       "      <td>...</td>\n",
       "      <td>99999.00</td>\n",
       "      <td>Busiest day</td>\n",
       "      <td>Busiest days</td>\n",
       "      <td>Most orders</td>\n",
       "      <td>9</td>\n",
       "      <td>New customer</td>\n",
       "      <td>1523.47</td>\n",
       "      <td>High spender</td>\n",
       "      <td>10.00</td>\n",
       "      <td>Frequent customer</td>\n",
       "    </tr>\n",
       "    <tr>\n",
       "      <th>129922</th>\n",
       "      <td>1851256</td>\n",
       "      <td>873</td>\n",
       "      <td>prior</td>\n",
       "      <td>4</td>\n",
       "      <td>6</td>\n",
       "      <td>12</td>\n",
       "      <td>13.00</td>\n",
       "      <td>33664.00</td>\n",
       "      <td>8.00</td>\n",
       "      <td>1.00</td>\n",
       "      <td>...</td>\n",
       "      <td>99999.00</td>\n",
       "      <td>Regularly busy</td>\n",
       "      <td>Regularly busy</td>\n",
       "      <td>Most orders</td>\n",
       "      <td>9</td>\n",
       "      <td>New customer</td>\n",
       "      <td>1523.47</td>\n",
       "      <td>High spender</td>\n",
       "      <td>10.00</td>\n",
       "      <td>Frequent customer</td>\n",
       "    </tr>\n",
       "    <tr>\n",
       "      <th>286436</th>\n",
       "      <td>1915696</td>\n",
       "      <td>1893</td>\n",
       "      <td>prior</td>\n",
       "      <td>1</td>\n",
       "      <td>5</td>\n",
       "      <td>17</td>\n",
       "      <td>11.11</td>\n",
       "      <td>33664.00</td>\n",
       "      <td>10.00</td>\n",
       "      <td>0.00</td>\n",
       "      <td>...</td>\n",
       "      <td>99999.00</td>\n",
       "      <td>Regularly busy</td>\n",
       "      <td>Regularly busy</td>\n",
       "      <td>Average orders</td>\n",
       "      <td>7</td>\n",
       "      <td>New customer</td>\n",
       "      <td>4924.39</td>\n",
       "      <td>High spender</td>\n",
       "      <td>13.00</td>\n",
       "      <td>Regular customer</td>\n",
       "    </tr>\n",
       "    <tr>\n",
       "      <th>286447</th>\n",
       "      <td>2763293</td>\n",
       "      <td>1893</td>\n",
       "      <td>prior</td>\n",
       "      <td>2</td>\n",
       "      <td>4</td>\n",
       "      <td>16</td>\n",
       "      <td>13.00</td>\n",
       "      <td>33664.00</td>\n",
       "      <td>6.00</td>\n",
       "      <td>1.00</td>\n",
       "      <td>...</td>\n",
       "      <td>99999.00</td>\n",
       "      <td>Least busy</td>\n",
       "      <td>Slowest days</td>\n",
       "      <td>Most orders</td>\n",
       "      <td>7</td>\n",
       "      <td>New customer</td>\n",
       "      <td>4924.39</td>\n",
       "      <td>High spender</td>\n",
       "      <td>13.00</td>\n",
       "      <td>Regular customer</td>\n",
       "    </tr>\n",
       "    <tr>\n",
       "      <th>286470</th>\n",
       "      <td>2564805</td>\n",
       "      <td>1893</td>\n",
       "      <td>prior</td>\n",
       "      <td>4</td>\n",
       "      <td>1</td>\n",
       "      <td>17</td>\n",
       "      <td>30.00</td>\n",
       "      <td>33664.00</td>\n",
       "      <td>3.00</td>\n",
       "      <td>1.00</td>\n",
       "      <td>...</td>\n",
       "      <td>99999.00</td>\n",
       "      <td>Regularly busy</td>\n",
       "      <td>Busiest days</td>\n",
       "      <td>Average orders</td>\n",
       "      <td>7</td>\n",
       "      <td>New customer</td>\n",
       "      <td>4924.39</td>\n",
       "      <td>High spender</td>\n",
       "      <td>13.00</td>\n",
       "      <td>Regular customer</td>\n",
       "    </tr>\n",
       "    <tr>\n",
       "      <th>...</th>\n",
       "      <td>...</td>\n",
       "      <td>...</td>\n",
       "      <td>...</td>\n",
       "      <td>...</td>\n",
       "      <td>...</td>\n",
       "      <td>...</td>\n",
       "      <td>...</td>\n",
       "      <td>...</td>\n",
       "      <td>...</td>\n",
       "      <td>...</td>\n",
       "      <td>...</td>\n",
       "      <td>...</td>\n",
       "      <td>...</td>\n",
       "      <td>...</td>\n",
       "      <td>...</td>\n",
       "      <td>...</td>\n",
       "      <td>...</td>\n",
       "      <td>...</td>\n",
       "      <td>...</td>\n",
       "      <td>...</td>\n",
       "      <td>...</td>\n",
       "    </tr>\n",
       "    <tr>\n",
       "      <th>32313958</th>\n",
       "      <td>2249946</td>\n",
       "      <td>204099</td>\n",
       "      <td>prior</td>\n",
       "      <td>29</td>\n",
       "      <td>0</td>\n",
       "      <td>8</td>\n",
       "      <td>4.00</td>\n",
       "      <td>33664.00</td>\n",
       "      <td>1.00</td>\n",
       "      <td>0.00</td>\n",
       "      <td>...</td>\n",
       "      <td>99999.00</td>\n",
       "      <td>Busiest day</td>\n",
       "      <td>Busiest days</td>\n",
       "      <td>Average orders</td>\n",
       "      <td>40</td>\n",
       "      <td>Regular customer</td>\n",
       "      <td>1106.74</td>\n",
       "      <td>High spender</td>\n",
       "      <td>4.00</td>\n",
       "      <td>Frequent customer</td>\n",
       "    </tr>\n",
       "    <tr>\n",
       "      <th>32313975</th>\n",
       "      <td>2363282</td>\n",
       "      <td>204099</td>\n",
       "      <td>prior</td>\n",
       "      <td>31</td>\n",
       "      <td>0</td>\n",
       "      <td>9</td>\n",
       "      <td>2.00</td>\n",
       "      <td>33664.00</td>\n",
       "      <td>1.00</td>\n",
       "      <td>1.00</td>\n",
       "      <td>...</td>\n",
       "      <td>99999.00</td>\n",
       "      <td>Busiest day</td>\n",
       "      <td>Busiest days</td>\n",
       "      <td>Most orders</td>\n",
       "      <td>40</td>\n",
       "      <td>Regular customer</td>\n",
       "      <td>1106.74</td>\n",
       "      <td>High spender</td>\n",
       "      <td>4.00</td>\n",
       "      <td>Frequent customer</td>\n",
       "    </tr>\n",
       "    <tr>\n",
       "      <th>32360116</th>\n",
       "      <td>3181945</td>\n",
       "      <td>204395</td>\n",
       "      <td>prior</td>\n",
       "      <td>13</td>\n",
       "      <td>3</td>\n",
       "      <td>15</td>\n",
       "      <td>8.00</td>\n",
       "      <td>33664.00</td>\n",
       "      <td>25.00</td>\n",
       "      <td>0.00</td>\n",
       "      <td>...</td>\n",
       "      <td>99999.00</td>\n",
       "      <td>Regularly busy</td>\n",
       "      <td>Slowest days</td>\n",
       "      <td>Most orders</td>\n",
       "      <td>16</td>\n",
       "      <td>Regular customer</td>\n",
       "      <td>451.15</td>\n",
       "      <td>High spender</td>\n",
       "      <td>5.00</td>\n",
       "      <td>Frequent customer</td>\n",
       "    </tr>\n",
       "    <tr>\n",
       "      <th>32490387</th>\n",
       "      <td>2486215</td>\n",
       "      <td>205227</td>\n",
       "      <td>prior</td>\n",
       "      <td>7</td>\n",
       "      <td>3</td>\n",
       "      <td>20</td>\n",
       "      <td>4.00</td>\n",
       "      <td>33664.00</td>\n",
       "      <td>8.00</td>\n",
       "      <td>0.00</td>\n",
       "      <td>...</td>\n",
       "      <td>99999.00</td>\n",
       "      <td>Regularly busy</td>\n",
       "      <td>Slowest days</td>\n",
       "      <td>Average orders</td>\n",
       "      <td>13</td>\n",
       "      <td>Regular customer</td>\n",
       "      <td>1178.38</td>\n",
       "      <td>High spender</td>\n",
       "      <td>11.11</td>\n",
       "      <td>Regular customer</td>\n",
       "    </tr>\n",
       "    <tr>\n",
       "      <th>32490441</th>\n",
       "      <td>2232716</td>\n",
       "      <td>205227</td>\n",
       "      <td>prior</td>\n",
       "      <td>10</td>\n",
       "      <td>0</td>\n",
       "      <td>11</td>\n",
       "      <td>4.00</td>\n",
       "      <td>33664.00</td>\n",
       "      <td>23.00</td>\n",
       "      <td>1.00</td>\n",
       "      <td>...</td>\n",
       "      <td>99999.00</td>\n",
       "      <td>Busiest day</td>\n",
       "      <td>Busiest days</td>\n",
       "      <td>Most orders</td>\n",
       "      <td>13</td>\n",
       "      <td>Regular customer</td>\n",
       "      <td>1178.38</td>\n",
       "      <td>High spender</td>\n",
       "      <td>11.11</td>\n",
       "      <td>Regular customer</td>\n",
       "    </tr>\n",
       "  </tbody>\n",
       "</table>\n",
       "<p>698 rows × 23 columns</p>\n",
       "</div>"
      ],
      "text/plain": [
       "          order_id  user_id eval_set  order_number  orders_day_of_the_week  \\\n",
       "129909      183964      873    prior             3                       0   \n",
       "129922     1851256      873    prior             4                       6   \n",
       "286436     1915696     1893    prior             1                       5   \n",
       "286447     2763293     1893    prior             2                       4   \n",
       "286470     2564805     1893    prior             4                       1   \n",
       "...            ...      ...      ...           ...                     ...   \n",
       "32313958   2249946   204099    prior            29                       0   \n",
       "32313975   2363282   204099    prior            31                       0   \n",
       "32360116   3181945   204395    prior            13                       3   \n",
       "32490387   2486215   205227    prior             7                       3   \n",
       "32490441   2232716   205227    prior            10                       0   \n",
       "\n",
       "          order_hour_of_day  days_since_prior_order  product_id  \\\n",
       "129909                   10                    7.00    33664.00   \n",
       "129922                   12                   13.00    33664.00   \n",
       "286436                   17                   11.11    33664.00   \n",
       "286447                   16                   13.00    33664.00   \n",
       "286470                   17                   30.00    33664.00   \n",
       "...                     ...                     ...         ...   \n",
       "32313958                  8                    4.00    33664.00   \n",
       "32313975                  9                    2.00    33664.00   \n",
       "32360116                 15                    8.00    33664.00   \n",
       "32490387                 20                    4.00    33664.00   \n",
       "32490441                 11                    4.00    33664.00   \n",
       "\n",
       "          add_to_cart_order  reordered  ...   prices     busiest_day  \\\n",
       "129909                11.00       0.00  ... 99999.00     Busiest day   \n",
       "129922                 8.00       1.00  ... 99999.00  Regularly busy   \n",
       "286436                10.00       0.00  ... 99999.00  Regularly busy   \n",
       "286447                 6.00       1.00  ... 99999.00      Least busy   \n",
       "286470                 3.00       1.00  ... 99999.00  Regularly busy   \n",
       "...                     ...        ...  ...      ...             ...   \n",
       "32313958               1.00       0.00  ... 99999.00     Busiest day   \n",
       "32313975               1.00       1.00  ... 99999.00     Busiest day   \n",
       "32360116              25.00       0.00  ... 99999.00  Regularly busy   \n",
       "32490387               8.00       0.00  ... 99999.00  Regularly busy   \n",
       "32490441              23.00       1.00  ... 99999.00     Busiest day   \n",
       "\n",
       "            busiest_days       busy_time max_order      loyalty_flag  \\\n",
       "129909      Busiest days     Most orders         9      New customer   \n",
       "129922    Regularly busy     Most orders         9      New customer   \n",
       "286436    Regularly busy  Average orders         7      New customer   \n",
       "286447      Slowest days     Most orders         7      New customer   \n",
       "286470      Busiest days  Average orders         7      New customer   \n",
       "...                  ...             ...       ...               ...   \n",
       "32313958    Busiest days  Average orders        40  Regular customer   \n",
       "32313975    Busiest days     Most orders        40  Regular customer   \n",
       "32360116    Slowest days     Most orders        16  Regular customer   \n",
       "32490387    Slowest days  Average orders        13  Regular customer   \n",
       "32490441    Busiest days     Most orders        13  Regular customer   \n",
       "\n",
       "         Average_spending  spending_flag Median_days_since_prior_order  \\\n",
       "129909            1523.47   High spender                         10.00   \n",
       "129922            1523.47   High spender                         10.00   \n",
       "286436            4924.39   High spender                         13.00   \n",
       "286447            4924.39   High spender                         13.00   \n",
       "286470            4924.39   High spender                         13.00   \n",
       "...                   ...            ...                           ...   \n",
       "32313958          1106.74   High spender                          4.00   \n",
       "32313975          1106.74   High spender                          4.00   \n",
       "32360116           451.15   High spender                          5.00   \n",
       "32490387          1178.38   High spender                         11.11   \n",
       "32490441          1178.38   High spender                         11.11   \n",
       "\n",
       "             frequency_flag  \n",
       "129909    Frequent customer  \n",
       "129922    Frequent customer  \n",
       "286436     Regular customer  \n",
       "286447     Regular customer  \n",
       "286470     Regular customer  \n",
       "...                     ...  \n",
       "32313958  Frequent customer  \n",
       "32313975  Frequent customer  \n",
       "32360116  Frequent customer  \n",
       "32490387   Regular customer  \n",
       "32490441   Regular customer  \n",
       "\n",
       "[698 rows x 23 columns]"
      ]
     },
     "execution_count": 16,
     "metadata": {},
     "output_type": "execute_result"
    }
   ],
   "source": [
    "ords_prods_merge.loc[ords_prods_merge['prices'] > 14991]"
   ]
  },
  {
   "cell_type": "code",
   "execution_count": 17,
   "metadata": {},
   "outputs": [],
   "source": [
    "ords_prods_merge.loc[ords_prods_merge['prices'] >100, 'prices'] = np.nan"
   ]
  },
  {
   "cell_type": "code",
   "execution_count": 18,
   "metadata": {},
   "outputs": [
    {
     "data": {
      "text/plain": [
       "25.0"
      ]
     },
     "execution_count": 18,
     "metadata": {},
     "output_type": "execute_result"
    }
   ],
   "source": [
    "ords_prods_merge['prices'].max()"
   ]
  },
  {
   "cell_type": "code",
   "execution_count": 19,
   "metadata": {},
   "outputs": [
    {
     "data": {
      "text/plain": [
       "<AxesSubplot:ylabel='Frequency'>"
      ]
     },
     "execution_count": 19,
     "metadata": {},
     "output_type": "execute_result"
    },
    {
     "data": {
      "image/png": "[encoded data removed]",
      "text/plain": [
       "<Figure size 432x288 with 1 Axes>"
      ]
     },
     "metadata": {
      "needs_background": "light"
     },
     "output_type": "display_data"
    }
   ],
   "source": [
    "ords_prods_merge['prices'].plot.hist(bins = 25)"
   ]
  },
  {
   "cell_type": "code",
   "execution_count": 20,
   "metadata": {},
   "outputs": [],
   "source": [
    "np.random.seed(4)"
   ]
  },
  {
   "cell_type": "code",
   "execution_count": 21,
   "metadata": {},
   "outputs": [],
   "source": [
    "dev = np.random.rand(len(ords_prods_merge)) <= 0.7"
   ]
  },
  {
   "cell_type": "code",
   "execution_count": 22,
   "metadata": {},
   "outputs": [
    {
     "data": {
      "text/plain": [
       "array([False,  True, False, ...,  True, False,  True])"
      ]
     },
     "execution_count": 22,
     "metadata": {},
     "output_type": "execute_result"
    }
   ],
   "source": [
    "dev"
   ]
  },
  {
   "cell_type": "code",
   "execution_count": 23,
   "metadata": {},
   "outputs": [],
   "source": [
    "big = ords_prods_merge[dev]"
   ]
  },
  {
   "cell_type": "code",
   "execution_count": 24,
   "metadata": {},
   "outputs": [],
   "source": [
    "small = ords_prods_merge[~dev]"
   ]
  },
  {
   "cell_type": "code",
   "execution_count": 25,
   "metadata": {},
   "outputs": [
    {
     "data": {
      "text/plain": [
       "22849745"
      ]
     },
     "execution_count": 25,
     "metadata": {},
     "output_type": "execute_result"
    }
   ],
   "source": [
    "len(big)"
   ]
  },
  {
   "cell_type": "code",
   "execution_count": 26,
   "metadata": {},
   "outputs": [
    {
     "data": {
      "text/plain": [
       "32641268"
      ]
     },
     "execution_count": 26,
     "metadata": {},
     "output_type": "execute_result"
    }
   ],
   "source": [
    "len(big)+len(small)"
   ]
  },
  {
   "cell_type": "code",
   "execution_count": 27,
   "metadata": {},
   "outputs": [
    {
     "data": {
      "text/plain": [
       "32641268"
      ]
     },
     "execution_count": 27,
     "metadata": {},
     "output_type": "execute_result"
    }
   ],
   "source": [
    "len(ords_prods_merge)"
   ]
  },
  {
   "cell_type": "code",
   "execution_count": 28,
   "metadata": {},
   "outputs": [],
   "source": [
    "df_2 = small[['orders_day_of_the_week','prices']]"
   ]
  },
  {
   "cell_type": "code",
   "execution_count": 29,
   "metadata": {},
   "outputs": [
    {
     "data": {
      "image/png": "[encoded data removed]",
      "text/plain": [
       "<Figure size 432x288 with 1 Axes>"
      ]
     },
     "metadata": {
      "needs_background": "light"
     },
     "output_type": "display_data"
    }
   ],
   "source": [
    "line = sns.lineplot(data = df_2, x = 'orders_day_of_the_week',y = 'prices')"
   ]
  },
  {
   "cell_type": "code",
   "execution_count": 30,
   "metadata": {},
   "outputs": [],
   "source": [
    "df_4 = ords_prods_merge[['orders_day_of_the_week','prices']]"
   ]
  },
  {
   "cell_type": "code",
   "execution_count": 31,
   "metadata": {},
   "outputs": [
    {
     "data": {
      "image/png": "[encoded data removed]",
      "text/plain": [
       "<Figure size 432x288 with 1 Axes>"
      ]
     },
     "metadata": {
      "needs_background": "light"
     },
     "output_type": "display_data"
    }
   ],
   "source": [
    "line_2 = sns.lineplot(data = df_4, x = 'orders_day_of_the_week',y = 'prices')"
   ]
  },
  {
   "cell_type": "code",
   "execution_count": 33,
   "metadata": {},
   "outputs": [
    {
     "data": {
      "text/plain": [
       "<AxesSubplot:ylabel='Frequency'>"
      ]
     },
     "execution_count": 33,
     "metadata": {},
     "output_type": "execute_result"
    },
    {
     "data": {
      "image/png": "[encoded data removed]",
      "text/plain": [
       "<Figure size 432x288 with 1 Axes>"
      ]
     },
     "metadata": {
      "needs_background": "light"
     },
     "output_type": "display_data"
    }
   ],
   "source": [
    "# 3. You need to provide the Instacart senior stakeholders with descriptive findings about sales. Create a histogram of the “order_hour_of_day” column.\n",
    "ords_prods_merge['order_hour_of_day'].plot.hist(bins = 24)"
   ]
  },
  {
   "cell_type": "markdown",
   "metadata": {},
   "source": [
    "# In the above table, the x-axis is the time and the y-axis is the number of orders, and it shows the time zone when many orders are placed."
   ]
  },
  {
   "cell_type": "code",
   "execution_count": 35,
   "metadata": {},
   "outputs": [
    {
     "data": {
      "text/plain": [
       "Regular customer    16381472\n",
       "Loyal customer      10679578\n",
       "New customer         5580218\n",
       "Name: loyalty_flag, dtype: int64"
      ]
     },
     "execution_count": 35,
     "metadata": {},
     "output_type": "execute_result"
    }
   ],
   "source": [
    "# 4. The marketing team is curious about the distribution of orders among customers in terms of loyalty. Create a bar chart from the “loyalty_flag” column.\n",
    "customer_merged['loyalty_flag'].value_counts()"
   ]
  },
  {
   "cell_type": "code",
   "execution_count": 37,
   "metadata": {},
   "outputs": [
    {
     "data": {
      "image/png": "[encoded data removed]",
      "text/plain": [
       "<Figure size 432x288 with 1 Axes>"
      ]
     },
     "metadata": {
      "needs_background": "light"
     },
     "output_type": "display_data"
    }
   ],
   "source": [
    "bar_loyalty_flag = customer_merged['loyalty_flag'].value_counts().sort_index().plot.bar()"
   ]
  },
  {
   "cell_type": "markdown",
   "metadata": {},
   "source": [
    "Loyal customer   = Max order  > 40\n",
    "\n",
    "Regular customer = Max order  40 => 10\n",
    "\n",
    "New customer     = Max oerder 10 >=  "
   ]
  },
  {
   "cell_type": "code",
   "execution_count": 38,
   "metadata": {},
   "outputs": [],
   "source": [
    "bar_loyalty_flag.figure.savefig(r'C:\\Users\\slave\\OneDrive\\Documents\\Instacart Basket Analysis\\Analysis\\Visualizations\\bar_loyalty_flag.png')"
   ]
  },
  {
   "cell_type": "code",
   "execution_count": 39,
   "metadata": {},
   "outputs": [
    {
     "data": {
      "image/png": "[encoded data removed]",
      "text/plain": [
       "<Figure size 432x288 with 1 Axes>"
      ]
     },
     "metadata": {
      "needs_background": "light"
     },
     "output_type": "display_data"
    }
   ],
   "source": [
    "# 5.Check whether there’s a difference in expenditure (the “prices” column) depending on the hour of the day. \n",
    "line_price = sns.lineplot(data = customer_merged, x = 'order_hour_of_day',y = 'prices')"
   ]
  },
  {
   "cell_type": "code",
   "execution_count": 40,
   "metadata": {},
   "outputs": [],
   "source": [
    "line_price.figure.savefig(r'C:\\Users\\slave\\OneDrive\\Documents\\Instacart Basket Analysis\\Analysis\\Visualizations\\line_price.png')"
   ]
  },
  {
   "cell_type": "code",
   "execution_count": 50,
   "metadata": {},
   "outputs": [],
   "source": [
    "# 6. Now that you have information about customers, you need to conduct some exploratory analysis of customer demographics to inform the targeted marketing campaigns. First, determine whether there’s a connection between age and family status by creating a line chart exploring the connections between age and number of dependents:\n",
    "customer = pd.read_csv(r'C:\\Users\\slave\\OneDrive\\Documents\\Instacart Basket Analysis\\Data\\Original Data\\customers.csv',index_col = False)"
   ]
  },
  {
   "cell_type": "code",
   "execution_count": 52,
   "metadata": {},
   "outputs": [],
   "source": [
    "customer.rename(columns = {'n_dependants' : 'Number_of_dependents'}, inplace = True)"
   ]
  },
  {
   "cell_type": "code",
   "execution_count": 53,
   "metadata": {},
   "outputs": [],
   "source": [
    "customer.rename(columns = {'fam_status' : 'family_status'}, inplace = True)"
   ]
  },
  {
   "cell_type": "code",
   "execution_count": 72,
   "metadata": {},
   "outputs": [
    {
     "data": {
      "image/png": "[encoded data removed]",
      "text/plain": [
       "<Figure size 432x288 with 1 Axes>"
      ]
     },
     "metadata": {
      "needs_background": "light"
     },
     "output_type": "display_data"
    }
   ],
   "source": [
    "# average dependents for customer by age.\n",
    "line_Age_dependents = sns.lineplot(data = customer, x = 'Age',y = 'Number_of_dependents')"
   ]
  },
  {
   "cell_type": "markdown",
   "metadata": {},
   "source": [
    "In the graph above, the x-axis shows the age and the y-axis shows the average number of dependents, showing the relationship between the number of dependents and age. There is no correlation between them."
   ]
  },
  {
   "cell_type": "code",
   "execution_count": 56,
   "metadata": {},
   "outputs": [],
   "source": [
    "line_Age_dependents.figure.savefig(r'C:\\Users\\slave\\OneDrive\\Documents\\Instacart Basket Analysis\\Analysis\\Visualizations\\line_Age_dependents.png')"
   ]
  },
  {
   "cell_type": "code",
   "execution_count": 57,
   "metadata": {
    "scrolled": true
   },
   "outputs": [
    {
     "data": {
      "text/plain": [
       "married                             144906\n",
       "single                               33962\n",
       "divorced/widowed                     17640\n",
       "living with parents and siblings      9701\n",
       "Name: family_status, dtype: int64"
      ]
     },
     "execution_count": 57,
     "metadata": {},
     "output_type": "execute_result"
    }
   ],
   "source": [
    "customer['family_status'].value_counts()"
   ]
  },
  {
   "cell_type": "code",
   "execution_count": 69,
   "metadata": {},
   "outputs": [],
   "source": [
    "customer_mean = customer.groupby('family_status').mean()"
   ]
  },
  {
   "cell_type": "code",
   "execution_count": 71,
   "metadata": {},
   "outputs": [],
   "source": [
    "customer_married = customer.loc[customer['family_status'] == 'married']"
   ]
  },
  {
   "cell_type": "code",
   "execution_count": 74,
   "metadata": {},
   "outputs": [
    {
     "data": {
      "image/png": "[encoded data removed]",
      "text/plain": [
       "<Figure size 432x288 with 1 Axes>"
      ]
     },
     "metadata": {
      "needs_background": "light"
     },
     "output_type": "display_data"
    }
   ],
   "source": [
    "# average dependents for married customer by age.\n",
    "line_customer_married = sns.lineplot(data = customer_married, x = 'Age',y = 'Number_of_dependents')"
   ]
  },
  {
   "cell_type": "markdown",
   "metadata": {},
   "source": [
    "In the graph above, the x-axis shows the age and the y-axis shows the average number of dependents, showing the relationship between the number of dependents and age among married customer. There is no correlation between them."
   ]
  },
  {
   "cell_type": "code",
   "execution_count": 81,
   "metadata": {},
   "outputs": [],
   "source": [
    "line_customer_married.figure.savefig(r'C:\\Users\\slave\\OneDrive\\Documents\\Instacart Basket Analysis\\Analysis\\Visualizations\\line_customer_married.png')"
   ]
  },
  {
   "cell_type": "code",
   "execution_count": 78,
   "metadata": {},
   "outputs": [],
   "source": [
    "pd.options.display.float_format = '{:.4f}'.format"
   ]
  },
  {
   "cell_type": "code",
   "execution_count": 75,
   "metadata": {},
   "outputs": [],
   "source": [
    "customer_single = customer.loc[customer['family_status'] == 'single']"
   ]
  },
  {
   "cell_type": "code",
   "execution_count": 79,
   "metadata": {},
   "outputs": [
    {
     "data": {
      "text/html": [
       "<div>\n",
       "<style scoped>\n",
       "    .dataframe tbody tr th:only-of-type {\n",
       "        vertical-align: middle;\n",
       "    }\n",
       "\n",
       "    .dataframe tbody tr th {\n",
       "        vertical-align: top;\n",
       "    }\n",
       "\n",
       "    .dataframe thead th {\n",
       "        text-align: right;\n",
       "    }\n",
       "</style>\n",
       "<table border=\"1\" class=\"dataframe\">\n",
       "  <thead>\n",
       "    <tr style=\"text-align: right;\">\n",
       "      <th></th>\n",
       "      <th>user_id</th>\n",
       "      <th>Age</th>\n",
       "      <th>Number_of_dependents</th>\n",
       "      <th>income</th>\n",
       "    </tr>\n",
       "  </thead>\n",
       "  <tbody>\n",
       "    <tr>\n",
       "      <th>count</th>\n",
       "      <td>206209.0000</td>\n",
       "      <td>206209.0000</td>\n",
       "      <td>206209.0000</td>\n",
       "      <td>206209.0000</td>\n",
       "    </tr>\n",
       "    <tr>\n",
       "      <th>mean</th>\n",
       "      <td>103105.0000</td>\n",
       "      <td>49.5016</td>\n",
       "      <td>1.4998</td>\n",
       "      <td>94632.8525</td>\n",
       "    </tr>\n",
       "    <tr>\n",
       "      <th>std</th>\n",
       "      <td>59527.5552</td>\n",
       "      <td>18.4810</td>\n",
       "      <td>1.1184</td>\n",
       "      <td>42473.7870</td>\n",
       "    </tr>\n",
       "    <tr>\n",
       "      <th>min</th>\n",
       "      <td>1.0000</td>\n",
       "      <td>18.0000</td>\n",
       "      <td>0.0000</td>\n",
       "      <td>25903.0000</td>\n",
       "    </tr>\n",
       "    <tr>\n",
       "      <th>25%</th>\n",
       "      <td>51553.0000</td>\n",
       "      <td>33.0000</td>\n",
       "      <td>0.0000</td>\n",
       "      <td>59874.0000</td>\n",
       "    </tr>\n",
       "    <tr>\n",
       "      <th>50%</th>\n",
       "      <td>103105.0000</td>\n",
       "      <td>49.0000</td>\n",
       "      <td>1.0000</td>\n",
       "      <td>93547.0000</td>\n",
       "    </tr>\n",
       "    <tr>\n",
       "      <th>75%</th>\n",
       "      <td>154657.0000</td>\n",
       "      <td>66.0000</td>\n",
       "      <td>3.0000</td>\n",
       "      <td>124244.0000</td>\n",
       "    </tr>\n",
       "    <tr>\n",
       "      <th>max</th>\n",
       "      <td>206209.0000</td>\n",
       "      <td>81.0000</td>\n",
       "      <td>3.0000</td>\n",
       "      <td>593901.0000</td>\n",
       "    </tr>\n",
       "  </tbody>\n",
       "</table>\n",
       "</div>"
      ],
      "text/plain": [
       "          user_id         Age  Number_of_dependents      income\n",
       "count 206209.0000 206209.0000           206209.0000 206209.0000\n",
       "mean  103105.0000     49.5016                1.4998  94632.8525\n",
       "std    59527.5552     18.4810                1.1184  42473.7870\n",
       "min        1.0000     18.0000                0.0000  25903.0000\n",
       "25%    51553.0000     33.0000                0.0000  59874.0000\n",
       "50%   103105.0000     49.0000                1.0000  93547.0000\n",
       "75%   154657.0000     66.0000                3.0000 124244.0000\n",
       "max   206209.0000     81.0000                3.0000 593901.0000"
      ]
     },
     "execution_count": 79,
     "metadata": {},
     "output_type": "execute_result"
    }
   ],
   "source": [
    "customer.describe()"
   ]
  },
  {
   "cell_type": "code",
   "execution_count": 80,
   "metadata": {},
   "outputs": [
    {
     "data": {
      "text/html": [
       "<div>\n",
       "<style scoped>\n",
       "    .dataframe tbody tr th:only-of-type {\n",
       "        vertical-align: middle;\n",
       "    }\n",
       "\n",
       "    .dataframe tbody tr th {\n",
       "        vertical-align: top;\n",
       "    }\n",
       "\n",
       "    .dataframe thead th {\n",
       "        text-align: right;\n",
       "    }\n",
       "</style>\n",
       "<table border=\"1\" class=\"dataframe\">\n",
       "  <thead>\n",
       "    <tr style=\"text-align: right;\">\n",
       "      <th></th>\n",
       "      <th>user_id</th>\n",
       "      <th>Age</th>\n",
       "      <th>Number_of_dependents</th>\n",
       "      <th>income</th>\n",
       "    </tr>\n",
       "    <tr>\n",
       "      <th>family_status</th>\n",
       "      <th></th>\n",
       "      <th></th>\n",
       "      <th></th>\n",
       "      <th></th>\n",
       "    </tr>\n",
       "  </thead>\n",
       "  <tbody>\n",
       "    <tr>\n",
       "      <th>divorced/widowed</th>\n",
       "      <td>103716.8809</td>\n",
       "      <td>70.5491</td>\n",
       "      <td>0.0000</td>\n",
       "      <td>109708.2882</td>\n",
       "    </tr>\n",
       "    <tr>\n",
       "      <th>living with parents and siblings</th>\n",
       "      <td>102464.6402</td>\n",
       "      <td>19.4969</td>\n",
       "      <td>1.9995</td>\n",
       "      <td>67572.9067</td>\n",
       "    </tr>\n",
       "    <tr>\n",
       "      <th>married</th>\n",
       "      <td>103003.8652</td>\n",
       "      <td>51.5261</td>\n",
       "      <td>2.0005</td>\n",
       "      <td>96471.8790</td>\n",
       "    </tr>\n",
       "    <tr>\n",
       "      <th>single</th>\n",
       "      <td>103401.6137</td>\n",
       "      <td>38.5023</td>\n",
       "      <td>0.0000</td>\n",
       "      <td>86685.4962</td>\n",
       "    </tr>\n",
       "  </tbody>\n",
       "</table>\n",
       "</div>"
      ],
      "text/plain": [
       "                                     user_id     Age  Number_of_dependents  \\\n",
       "family_status                                                                \n",
       "divorced/widowed                 103716.8809 70.5491                0.0000   \n",
       "living with parents and siblings 102464.6402 19.4969                1.9995   \n",
       "married                          103003.8652 51.5261                2.0005   \n",
       "single                           103401.6137 38.5023                0.0000   \n",
       "\n",
       "                                      income  \n",
       "family_status                                 \n",
       "divorced/widowed                 109708.2882  \n",
       "living with parents and siblings  67572.9067  \n",
       "married                           96471.8790  \n",
       "single                            86685.4962  "
      ]
     },
     "execution_count": 80,
     "metadata": {},
     "output_type": "execute_result"
    }
   ],
   "source": [
    "customer_mean"
   ]
  },
  {
   "cell_type": "markdown",
   "metadata": {},
   "source": [
    "Average age for entire customer is 49.5 years old.\n",
    "\n",
    "Average age for married customer is 51.5 years old."
   ]
  },
  {
   "cell_type": "code",
   "execution_count": 83,
   "metadata": {},
   "outputs": [
    {
     "name": "stdout",
     "output_type": "stream",
     "text": [
      "<class 'pandas.core.frame.DataFrame'>\n",
      "Int64Index: 32641268 entries, 0 to 32641267\n",
      "Data columns (total 33 columns):\n",
      " #   Column                         Dtype   \n",
      "---  ------                         -----   \n",
      " 0   order_id                       int64   \n",
      " 1   user_id                        int64   \n",
      " 2   eval_set                       object  \n",
      " 3   order_number                   int64   \n",
      " 4   orders_day_of_the_week         int64   \n",
      " 5   order_hour_of_day              int64   \n",
      " 6   days_since_prior_order         float64 \n",
      " 7   product_id                     float64 \n",
      " 8   add_to_cart_order              float64 \n",
      " 9   reordered                      float64 \n",
      " 10  product_name                   object  \n",
      " 11  aisle_id                       float64 \n",
      " 12  department_id                  float64 \n",
      " 13  prices                         float64 \n",
      " 14  busiest_day                    object  \n",
      " 15  busiest_days                   object  \n",
      " 16  busy_time                      object  \n",
      " 17  max_order                      int64   \n",
      " 18  loyalty_flag                   object  \n",
      " 19  Average_spending               float64 \n",
      " 20  spending_flag                  object  \n",
      " 21  Median_days_since_prior_order  float64 \n",
      " 22  frequency_flag                 object  \n",
      " 23  First Name                     object  \n",
      " 24  Surnam                         object  \n",
      " 25  Gender                         object  \n",
      " 26  STATE                          object  \n",
      " 27  Age                            int64   \n",
      " 28  date_joined                    object  \n",
      " 29  Number_of_dependents           int64   \n",
      " 30  family_status                  object  \n",
      " 31  income                         int64   \n",
      " 32  _merge                         category\n",
      "dtypes: category(1), float64(9), int64(9), object(14)\n",
      "memory usage: 8.1+ GB\n"
     ]
    }
   ],
   "source": [
    "# 7.You’ll also need to explore whether there’s a connection between age and spending power. To visualize this relationship, create a scatterplot using the sns.scatterplot() function.\n",
    "customer_merged.info()"
   ]
  },
  {
   "cell_type": "code",
   "execution_count": 84,
   "metadata": {},
   "outputs": [
    {
     "data": {
      "text/plain": [
       "Low spender     32001268\n",
       "High spender      640000\n",
       "Name: spending_flag, dtype: int64"
      ]
     },
     "execution_count": 84,
     "metadata": {},
     "output_type": "execute_result"
    }
   ],
   "source": [
    "customer_merged['spending_flag'].value_counts()"
   ]
  },
  {
   "cell_type": "code",
   "execution_count": 87,
   "metadata": {},
   "outputs": [
    {
     "data": {
      "image/png": "[encoded data removed]",
      "text/plain": [
       "<Figure size 432x288 with 1 Axes>"
      ]
     },
     "metadata": {
      "needs_background": "light"
     },
     "output_type": "display_data"
    }
   ],
   "source": [
    "scatterplot_Age_Average_spending = sns.scatterplot(x = 'Average_spending', y = 'Age',data = customer_merged)"
   ]
  },
  {
   "cell_type": "markdown",
   "metadata": {},
   "source": [
    "In the graph above, the x-axis shows the average_spending and the y-axis shows the age, showing the relationship between the average spending and age from customer. There is no correlation between them."
   ]
  },
  {
   "cell_type": "code",
   "execution_count": 88,
   "metadata": {},
   "outputs": [],
   "source": [
    "scatterplot_Age_Average_spending.figure.savefig(r'C:\\Users\\slave\\OneDrive\\Documents\\Instacart Basket Analysis\\Analysis\\Visualizations\\scatterplot_Age_Average_spending.png')"
   ]
  },
  {
   "cell_type": "code",
   "execution_count": null,
   "metadata": {},
   "outputs": [],
   "source": []
  }
 ],
 "metadata": {
  "kernelspec": {
   "display_name": "Python 3",
   "language": "python",
   "name": "python3"
  },
  "language_info": {
   "codemirror_mode": {
    "name": "ipython",
    "version": 3
   },
   "file_extension": ".py",
   "mimetype": "text/x-python",
   "name": "python",
   "nbconvert_exporter": "python",
   "pygments_lexer": "ipython3",
   "version": "3.8.5"
  }
 },
 "nbformat": 4,
 "nbformat_minor": 4
}
