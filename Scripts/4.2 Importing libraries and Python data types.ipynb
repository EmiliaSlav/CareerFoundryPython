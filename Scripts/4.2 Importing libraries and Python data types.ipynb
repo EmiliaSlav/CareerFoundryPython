{
 "cells": [
  {
   "cell_type": "markdown",
   "metadata": {},
   "source": [
    "# 01. Importing libraries"
   ]
  },
  {
   "cell_type": "code",
   "execution_count": 1,
   "metadata": {},
   "outputs": [],
   "source": [
    "# Import libraries\n",
    "import pandas as pd\n",
    "import numpy as np\n",
    "import os"
   ]
  },
  {
   "cell_type": "markdown",
   "metadata": {},
   "source": [
    "# 02. Python data types"
   ]
  },
  {
   "cell_type": "code",
   "execution_count": 35,
   "metadata": {},
   "outputs": [
    {
     "name": "stdout",
     "output_type": "stream",
     "text": [
      "100\n",
      "100\n",
      "100\n",
      "100\n",
      "100\n"
     ]
    },
    {
     "data": {
      "text/plain": [
       "(int, int, int, int)"
      ]
     },
     "execution_count": 35,
     "metadata": {},
     "output_type": "execute_result"
    }
   ],
   "source": [
    "#Adding to 100\n",
    "a=20\n",
    "b=40\n",
    "c=60\n",
    "d=80\n",
    "print(b+c)\n",
    "print(d+c-b)\n",
    "print(60+80-40)\n",
    "print(c+80-b)\n",
    "print(180-(a+c))\n",
    "type(a), type (b), type(c), type(d)"
   ]
  },
  {
   "cell_type": "code",
   "execution_count": 36,
   "metadata": {},
   "outputs": [
    {
     "name": "stdout",
     "output_type": "stream",
     "text": [
      "31.84713375796178\n",
      "1.4436781609195404\n"
     ]
    },
    {
     "data": {
      "text/plain": [
       "(float, float)"
      ]
     },
     "execution_count": 36,
     "metadata": {},
     "output_type": "execute_result"
    }
   ],
   "source": [
    "#floating-point variables\n",
    "e=3.14\n",
    "f= 2.175\n",
    "print(100/e)\n",
    "print(e/f)\n",
    "type(e), type(f)"
   ]
  },
  {
   "cell_type": "code",
   "execution_count": 37,
   "metadata": {},
   "outputs": [
    {
     "name": "stdout",
     "output_type": "stream",
     "text": [
      "football\n",
      "bigfoot\n",
      "basketball\n"
     ]
    },
    {
     "data": {
      "text/plain": [
       "(str, str)"
      ]
     },
     "execution_count": 37,
     "metadata": {},
     "output_type": "execute_result"
    }
   ],
   "source": [
    "#Short word concatenation\n",
    "x= 'foot'\n",
    "y='ball'\n",
    "print(x+y)\n",
    "print('big'+x)\n",
    "print('basket'+y)\n",
    "type(x), type(y)"
   ]
  },
  {
   "cell_type": "code",
   "execution_count": 39,
   "metadata": {},
   "outputs": [
    {
     "name": "stdout",
     "output_type": "stream",
     "text": [
      "Tampa Bay Lightning is the best hockeyteam.\n",
      "I love hockey!\n"
     ]
    }
   ],
   "source": [
    "#Short sentence concatenation\n",
    "s= ('Tampa '+ 'Bay '+'Lightning '+'is '+'the '+'best'+' hockey'+'team.')\n",
    "print(s)\n",
    "print('I '+'love '+'hockey!')"
   ]
  },
  {
   "cell_type": "code",
   "execution_count": null,
   "metadata": {},
   "outputs": [],
   "source": []
  }
 ],
 "metadata": {
  "kernelspec": {
   "display_name": "Python 3",
   "language": "python",
   "name": "python3"
  },
  "language_info": {
   "codemirror_mode": {
    "name": "ipython",
    "version": 3
   },
   "file_extension": ".py",
   "mimetype": "text/x-python",
   "name": "python",
   "nbconvert_exporter": "python",
   "pygments_lexer": "ipython3",
   "version": "3.8.5"
  }
 },
 "nbformat": 4,
 "nbformat_minor": 4
}
